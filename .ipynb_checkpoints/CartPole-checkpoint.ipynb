{
 "cells": [
  {
   "cell_type": "code",
   "execution_count": 5,
   "metadata": {},
   "outputs": [],
   "source": [
    "import gym\n",
    "import numpy as np\n",
    "import time\n",
    "%matplotlib inline\n",
    "import matplotlib.pyplot as plt\n",
    "import random\n"
   ]
  },
  {
   "cell_type": "code",
   "execution_count": 6,
   "metadata": {},
   "outputs": [
    {
     "name": "stdout",
     "output_type": "stream",
     "text": [
      "Box(4,)\n",
      "Discrete(2)\n"
     ]
    }
   ],
   "source": [
    "env = gym.make(\"CartPole-v1\")\n",
    "print(env.observation_space)\n",
    "print(env.action_space)"
   ]
  },
  {
   "cell_type": "code",
   "execution_count": 7,
   "metadata": {},
   "outputs": [],
   "source": [
    "\n",
    "class Simple_Agent():\n",
    "    def __init__(self,env):\n",
    "        self.act_size = env.action_space.n\n",
    "        print(\"action size\",self.act_size)\n",
    "    \n",
    "    def get_action(self,state):\n",
    "        #action = random.choice(range(self.act_size))\n",
    "        pole_angle = state[2]\n",
    "        if pole_angle < 0:\n",
    "            action = 0\n",
    "        else:\n",
    "            action = 1\n",
    "        return action"
   ]
  },
  {
   "cell_type": "code",
   "execution_count": 25,
   "metadata": {},
   "outputs": [
    {
     "name": "stdout",
     "output_type": "stream",
     "text": [
      "action size 2\n",
      "[ 0.02199062 -0.00447328  0.04944909 -0.0183282 ]\n",
      "38\n",
      "[ 0.21521284  0.5741627  -0.21387009 -0.76426482]\n",
      "1.0\n"
     ]
    }
   ],
   "source": [
    "agent = Simple_Agent(env)\n",
    "reward1 = 0\n",
    "state = env.reset()\n",
    "print(state)\n",
    "for i in range(200):\n",
    "    #action = env.action_space.sample()\n",
    "    action = agent.get_action(state)\n",
    "    state, reward, done, info = env.step(action)\n",
    "    reward1 = reward1 + reward\n",
    "    env.render()\n",
    "    time.sleep(0.05)\n",
    "    if done == True:\n",
    "        print (i)\n",
    "        print(state)\n",
    "        print(reward)\n",
    "        print(reward1)\n",
    "        break\n",
    "    \n",
    "    "
   ]
  }
 ],
 "metadata": {
  "kernelspec": {
   "display_name": "Python (py36)",
   "language": "python",
   "name": "py36"
  },
  "language_info": {
   "codemirror_mode": {
    "name": "ipython",
    "version": 3
   },
   "file_extension": ".py",
   "mimetype": "text/x-python",
   "name": "python",
   "nbconvert_exporter": "python",
   "pygments_lexer": "ipython3",
   "version": "3.6.6"
  }
 },
 "nbformat": 4,
 "nbformat_minor": 2
}
