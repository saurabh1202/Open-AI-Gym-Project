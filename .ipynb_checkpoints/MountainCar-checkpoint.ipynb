{
 "cells": [
  {
   "cell_type": "code",
   "execution_count": 3,
   "metadata": {},
   "outputs": [],
   "source": [
    "import gym\n",
    "import numpy as np\n",
    "import random\n",
    "%matplotlib inline\n",
    "import matplotlib.pyplot as plt\n",
    "\n",
    "import time"
   ]
  },
  {
   "cell_type": "code",
   "execution_count": 4,
   "metadata": {
    "scrolled": true
   },
   "outputs": [
    {
     "name": "stdout",
     "output_type": "stream",
     "text": [
      "\u001b[33mWARN: gym.spaces.Box autodetected dtype as <class 'numpy.float32'>. Please provide explicit dtype.\u001b[0m\n",
      "Box(2,)\n",
      "Discrete(3)\n"
     ]
    }
   ],
   "source": [
    "env = gym.make(\"MountainCar-v0\")\n",
    "\n",
    "print(env.observation_space)\n",
    "print(env.action_space)"
   ]
  },
  {
   "cell_type": "code",
   "execution_count": 5,
   "metadata": {},
   "outputs": [],
   "source": [
    "class No_learning_Agent():\n",
    "    def __init__(self,env):\n",
    "        self.act_size = env.action_space.n\n",
    "        self.best_position = 0.5\n",
    "        print (self.act_size)\n",
    "        \n",
    "    def get_action(self,state):\n",
    "        #action = random.choice(range(self.act_size))\n",
    "        position = state[0]\n",
    "        velocity = state[1]\n",
    "        if (position <= -0.6 and position > -1.2) and (velocity >= -0.7 and velocity <0) :\n",
    "            action = 2\n",
    "        elif (position > -0.6 and position <= -0.4):\n",
    "            action = 0\n",
    "        elif position >0.4:\n",
    "            action = 1\n",
    "        \n",
    "        return action\n",
    "        "
   ]
  },
  {
   "cell_type": "code",
   "execution_count": 6,
   "metadata": {
    "scrolled": false
   },
   "outputs": [
    {
     "name": "stdout",
     "output_type": "stream",
     "text": [
      "3\n",
      "[-0.50470352  0.        ]\n",
      "step = 1 state =  [-0.50584516 -0.00114164]  reward =  -1.0\n",
      "step = 2 state =  [-0.50811988 -0.00227473]  reward =  -1.0\n",
      "step = 3 state =  [-0.51151066 -0.00339078]  reward =  -1.0\n",
      "step = 4 state =  [-0.51599208 -0.00448142]  reward =  -1.0\n",
      "step = 5 state =  [-0.52153054 -0.00553846]  reward =  -1.0\n",
      "step = 6 state =  [-0.52808452 -0.00655398]  reward =  -1.0\n",
      "step = 7 state =  [-0.53560485 -0.00752033]  reward =  -1.0\n",
      "step = 8 state =  [-0.54403516 -0.00843031]  reward =  -1.0\n",
      "step = 9 state =  [-0.55331229 -0.00927713]  reward =  -1.0\n",
      "step = 10 state =  [-0.56336687 -0.01005457]  reward =  -1.0\n",
      "step = 11 state =  [-0.57412389 -0.01075702]  reward =  -1.0\n",
      "step = 12 state =  [-0.58550342 -0.01137953]  reward =  -1.0\n",
      "step = 13 state =  [-0.59742133 -0.01191791]  reward =  -1.0\n",
      "step = 14 state =  [-0.60979009 -0.01236876]  reward =  -1.0\n",
      "step = 15 state =  [-0.62051959 -0.0107295 ]  reward =  -1.0\n",
      "step = 16 state =  [-0.62953238 -0.00901279]  reward =  -1.0\n",
      "step = 17 state =  [-0.63676398 -0.0072316 ]  reward =  -1.0\n",
      "step = 18 state =  [-0.64216305 -0.00539907]  reward =  -1.0\n",
      "step = 19 state =  [-0.64569152 -0.00352847]  reward =  -1.0\n",
      "step = 20 state =  [-0.64732463 -0.00163311]  reward =  -1.0\n",
      "step = 21 state =  [-6.47050964e-01  2.73669884e-04]  reward =  -1.0\n"
     ]
    },
    {
     "ename": "UnboundLocalError",
     "evalue": "local variable 'action' referenced before assignment",
     "output_type": "error",
     "traceback": [
      "\u001b[1;31m---------------------------------------------------------------------------\u001b[0m",
      "\u001b[1;31mUnboundLocalError\u001b[0m                         Traceback (most recent call last)",
      "\u001b[1;32m<ipython-input-6-dda051337a63>\u001b[0m in \u001b[0;36m<module>\u001b[1;34m()\u001b[0m\n\u001b[0;32m      8\u001b[0m     \u001b[0mprint\u001b[0m\u001b[1;33m(\u001b[0m\u001b[0mstate\u001b[0m\u001b[1;33m)\u001b[0m\u001b[1;33m\u001b[0m\u001b[0m\n\u001b[0;32m      9\u001b[0m     \u001b[1;32mfor\u001b[0m \u001b[0mi\u001b[0m \u001b[1;32min\u001b[0m \u001b[0mrange\u001b[0m\u001b[1;33m(\u001b[0m\u001b[1;36m1\u001b[0m\u001b[1;33m,\u001b[0m\u001b[1;36m201\u001b[0m\u001b[1;33m)\u001b[0m\u001b[1;33m:\u001b[0m\u001b[1;33m\u001b[0m\u001b[0m\n\u001b[1;32m---> 10\u001b[1;33m         \u001b[0maction\u001b[0m \u001b[1;33m=\u001b[0m \u001b[0magent\u001b[0m\u001b[1;33m.\u001b[0m\u001b[0mget_action\u001b[0m\u001b[1;33m(\u001b[0m\u001b[0mstate\u001b[0m\u001b[1;33m)\u001b[0m\u001b[1;33m\u001b[0m\u001b[0m\n\u001b[0m\u001b[0;32m     11\u001b[0m         \u001b[0mstate\u001b[0m\u001b[1;33m,\u001b[0m \u001b[0mreward\u001b[0m\u001b[1;33m,\u001b[0m \u001b[0mdone\u001b[0m\u001b[1;33m,\u001b[0m \u001b[0minfo\u001b[0m \u001b[1;33m=\u001b[0m \u001b[0menv\u001b[0m\u001b[1;33m.\u001b[0m\u001b[0mstep\u001b[0m\u001b[1;33m(\u001b[0m\u001b[0maction\u001b[0m\u001b[1;33m)\u001b[0m\u001b[1;33m\u001b[0m\u001b[0m\n\u001b[0;32m     12\u001b[0m         \u001b[0mprint\u001b[0m\u001b[1;33m(\u001b[0m\u001b[1;34m\"step =\"\u001b[0m\u001b[1;33m,\u001b[0m\u001b[0mi\u001b[0m\u001b[1;33m,\u001b[0m\u001b[1;34m\"state = \"\u001b[0m\u001b[1;33m,\u001b[0m\u001b[0mstate\u001b[0m\u001b[1;33m,\u001b[0m\u001b[1;34m\" reward = \"\u001b[0m\u001b[1;33m,\u001b[0m\u001b[0mreward\u001b[0m\u001b[1;33m)\u001b[0m\u001b[1;33m\u001b[0m\u001b[0m\n",
      "\u001b[1;32m<ipython-input-5-44d8c2df4d31>\u001b[0m in \u001b[0;36mget_action\u001b[1;34m(self, state)\u001b[0m\n\u001b[0;32m     16\u001b[0m             \u001b[0maction\u001b[0m \u001b[1;33m=\u001b[0m \u001b[1;36m1\u001b[0m\u001b[1;33m\u001b[0m\u001b[0m\n\u001b[0;32m     17\u001b[0m \u001b[1;33m\u001b[0m\u001b[0m\n\u001b[1;32m---> 18\u001b[1;33m         \u001b[1;32mreturn\u001b[0m \u001b[0maction\u001b[0m\u001b[1;33m\u001b[0m\u001b[0m\n\u001b[0m\u001b[0;32m     19\u001b[0m \u001b[1;33m\u001b[0m\u001b[0m\n",
      "\u001b[1;31mUnboundLocalError\u001b[0m: local variable 'action' referenced before assignment"
     ]
    }
   ],
   "source": [
    "agent = No_learning_Agent(env)\n",
    "rewards_list = []\n",
    "no_of_episodes = 100\n",
    "\n",
    "for x in range(1,no_of_episodes+1):\n",
    "    reward1 = 0\n",
    "    state = env.reset()\n",
    "    print(state)\n",
    "    for i in range(1,201):\n",
    "        action = agent.get_action(state)\n",
    "        state, reward, done, info = env.step(action)\n",
    "        print(\"step =\",i,\"state = \",state,\" reward = \",reward)\n",
    "        reward1 = reward1 + reward\n",
    "        env.render()\n",
    "        time.sleep(0.05)\n",
    "        if done:\n",
    "            rewards_list.append(reward1)\n",
    "            break\n",
    "print(\"Average reward over \",no_of_episodes,\" episodes = \",np.average(rewards_list))\n",
    "print(\"Max reward in an episode over \",no_of_episodes,\" episodes = \",np.max(rewards_list))\n",
    "print(\"Min reward in an episode over\",no_of_episodes,\" episodes = \",np.min(rewards_list))"
   ]
  }
 ],
 "metadata": {
  "kernelspec": {
   "display_name": "Python (py36)",
   "language": "python",
   "name": "py36"
  },
  "language_info": {
   "codemirror_mode": {
    "name": "ipython",
    "version": 3
   },
   "file_extension": ".py",
   "mimetype": "text/x-python",
   "name": "python",
   "nbconvert_exporter": "python",
   "pygments_lexer": "ipython3",
   "version": "3.6.6"
  }
 },
 "nbformat": 4,
 "nbformat_minor": 2
}
