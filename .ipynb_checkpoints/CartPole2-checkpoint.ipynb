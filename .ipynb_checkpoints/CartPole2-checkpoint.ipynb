{
 "cells": [
  {
   "cell_type": "code",
   "execution_count": null,
   "metadata": {},
   "outputs": [],
   "source": [
    "import gym\n",
    "import numpy as np\n",
    "import time\n",
    "\n",
    "def gen_random_policy():\n",
    "    return (np.random.uniform(-1,1, size=4), np.random.uniform(-1,1))\n",
    "\n",
    "def policy_to_action(env, policy, obs):\n",
    "    if np.dot(policy[0], obs) + policy[1] > 0:\n",
    "        return 1\n",
    "    else:\n",
    "        return 0\n",
    "\n",
    "def run_episode(env, policy, t_max=1000, render=False):\n",
    "    obs = env.reset()\n",
    "    total_reward = 0\n",
    "    for i in range(t_max):\n",
    "        if render:\n",
    "            env.render()\n",
    "            time.sleep(0.005)\n",
    "        selected_action = policy_to_action(env, policy, obs)\n",
    "        obs, reward, done, _ = env.step(selected_action)\n",
    "        total_reward += reward\n",
    "        if done:\n",
    "            break\n",
    "    return total_reward\n",
    "\n",
    "if __name__ == '__main__':\n",
    "    env = gym.make('CartPole-v0')\n",
    "    \n",
    "    ## Generate a pool or random policies\n",
    "    n_policy = 500\n",
    "    policy_list = [gen_random_policy() for _ in range(n_policy)]\n",
    "\n",
    "    # Evaluate the score of each policy.\n",
    "    scores_list = [run_episode(env, p) for p in policy_list]\n",
    "    \n",
    "    # Select the best plicy.\n",
    "    print('Best policy score = %f' %max(scores_list))\n",
    "    print(\"Average Policy score = \",np.average(scores_list))\n",
    "    print(\"Minimum Policy score = \",np.min(scores_list))\n",
    "    \n",
    "    best_policy= policy_list[np.argmax(scores_list)]\n",
    "    print('Running with best policy:\\n')\n",
    "    run_episode(env, best_policy, render=True)"
   ]
  }
 ],
 "metadata": {
  "kernelspec": {
   "display_name": "Python (py36)",
   "language": "python",
   "name": "py36"
  },
  "language_info": {
   "codemirror_mode": {
    "name": "ipython",
    "version": 3
   },
   "file_extension": ".py",
   "mimetype": "text/x-python",
   "name": "python",
   "nbconvert_exporter": "python",
   "pygments_lexer": "ipython3",
   "version": "3.6.6"
  }
 },
 "nbformat": 4,
 "nbformat_minor": 2
}
