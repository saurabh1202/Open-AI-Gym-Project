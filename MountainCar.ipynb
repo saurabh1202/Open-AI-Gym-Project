{
 "cells": [
  {
   "cell_type": "code",
   "execution_count": 3,
   "metadata": {},
   "outputs": [],
   "source": [
    "import gym\n",
    "import numpy as np\n",
    "import random\n",
    "%matplotlib inline\n",
    "import matplotlib.pyplot as plt\n",
    "\n",
    "import time"
   ]
  },
  {
   "cell_type": "code",
   "execution_count": 4,
   "metadata": {
    "scrolled": true
   },
   "outputs": [
    {
     "name": "stdout",
     "output_type": "stream",
     "text": [
      "\u001b[33mWARN: gym.spaces.Box autodetected dtype as <class 'numpy.float32'>. Please provide explicit dtype.\u001b[0m\n",
      "Box(2,)\n",
      "Discrete(3)\n"
     ]
    }
   ],
   "source": [
    "env = gym.make(\"MountainCar-v0\")\n",
    "\n",
    "print(env.observation_space)\n",
    "print(env.action_space)"
   ]
  },
  {
   "cell_type": "code",
   "execution_count": 7,
   "metadata": {},
   "outputs": [],
   "source": [
    "class No_learning_Agent():\n",
    "    def __init__(self,env):\n",
    "        self.act_size = env.action_space.n\n",
    "        self.best_position = 0.5\n",
    "        print (self.act_size)\n",
    "        \n",
    "    def get_action(self,state):\n",
    "        #action = random.choice(range(self.act_size))\n",
    "        position = state[0]\n",
    "        velocity = state[1]\n",
    "        if position > -1.2:\n",
    "            action = 0\n",
    "        elif position <\n",
    "        "
   ]
  },
  {
   "cell_type": "code",
   "execution_count": 8,
   "metadata": {
    "scrolled": false
   },
   "outputs": [
    {
     "name": "stdout",
     "output_type": "stream",
     "text": [
      "3\n",
      "[-0.56756169  0.        ]\n",
      "step = 1 state =  [-0.56823292 -0.00067123]  reward =  -1.0\n",
      "step = 2 state =  [-0.5695704  -0.00133748]  reward =  -1.0\n",
      "step = 3 state =  [-0.57156418 -0.00199378]  reward =  -1.0\n",
      "step = 4 state =  [-0.57419946 -0.00263528]  reward =  -1.0\n",
      "step = 5 state =  [-0.57745669 -0.00325723]  reward =  -1.0\n",
      "step = 6 state =  [-0.58131175 -0.00385505]  reward =  -1.0\n",
      "step = 7 state =  [-0.58573611 -0.00442436]  reward =  -1.0\n",
      "step = 8 state =  [-0.59069714 -0.00496103]  reward =  -1.0\n",
      "step = 9 state =  [-0.59615832 -0.00546118]  reward =  -1.0\n",
      "step = 10 state =  [-0.6020796  -0.00592127]  reward =  -1.0\n",
      "step = 11 state =  [-0.60641769 -0.00433809]  reward =  -1.0\n",
      "step = 12 state =  [-0.60914101 -0.00272332]  reward =  -1.0\n",
      "step = 13 state =  [-0.61022978 -0.00108877]  reward =  -1.0\n",
      "step = 14 state =  [-6.09676107e-01  5.53671036e-04]  reward =  -1.0\n"
     ]
    },
    {
     "ename": "UnboundLocalError",
     "evalue": "local variable 'action' referenced before assignment",
     "output_type": "error",
     "traceback": [
      "\u001b[1;31m---------------------------------------------------------------------------\u001b[0m",
      "\u001b[1;31mUnboundLocalError\u001b[0m                         Traceback (most recent call last)",
      "\u001b[1;32m<ipython-input-8-dda051337a63>\u001b[0m in \u001b[0;36m<module>\u001b[1;34m()\u001b[0m\n\u001b[0;32m      8\u001b[0m     \u001b[0mprint\u001b[0m\u001b[1;33m(\u001b[0m\u001b[0mstate\u001b[0m\u001b[1;33m)\u001b[0m\u001b[1;33m\u001b[0m\u001b[0m\n\u001b[0;32m      9\u001b[0m     \u001b[1;32mfor\u001b[0m \u001b[0mi\u001b[0m \u001b[1;32min\u001b[0m \u001b[0mrange\u001b[0m\u001b[1;33m(\u001b[0m\u001b[1;36m1\u001b[0m\u001b[1;33m,\u001b[0m\u001b[1;36m201\u001b[0m\u001b[1;33m)\u001b[0m\u001b[1;33m:\u001b[0m\u001b[1;33m\u001b[0m\u001b[0m\n\u001b[1;32m---> 10\u001b[1;33m         \u001b[0maction\u001b[0m \u001b[1;33m=\u001b[0m \u001b[0magent\u001b[0m\u001b[1;33m.\u001b[0m\u001b[0mget_action\u001b[0m\u001b[1;33m(\u001b[0m\u001b[0mstate\u001b[0m\u001b[1;33m)\u001b[0m\u001b[1;33m\u001b[0m\u001b[0m\n\u001b[0m\u001b[0;32m     11\u001b[0m         \u001b[0mstate\u001b[0m\u001b[1;33m,\u001b[0m \u001b[0mreward\u001b[0m\u001b[1;33m,\u001b[0m \u001b[0mdone\u001b[0m\u001b[1;33m,\u001b[0m \u001b[0minfo\u001b[0m \u001b[1;33m=\u001b[0m \u001b[0menv\u001b[0m\u001b[1;33m.\u001b[0m\u001b[0mstep\u001b[0m\u001b[1;33m(\u001b[0m\u001b[0maction\u001b[0m\u001b[1;33m)\u001b[0m\u001b[1;33m\u001b[0m\u001b[0m\n\u001b[0;32m     12\u001b[0m         \u001b[0mprint\u001b[0m\u001b[1;33m(\u001b[0m\u001b[1;34m\"step =\"\u001b[0m\u001b[1;33m,\u001b[0m\u001b[0mi\u001b[0m\u001b[1;33m,\u001b[0m\u001b[1;34m\"state = \"\u001b[0m\u001b[1;33m,\u001b[0m\u001b[0mstate\u001b[0m\u001b[1;33m,\u001b[0m\u001b[1;34m\" reward = \"\u001b[0m\u001b[1;33m,\u001b[0m\u001b[0mreward\u001b[0m\u001b[1;33m)\u001b[0m\u001b[1;33m\u001b[0m\u001b[0m\n",
      "\u001b[1;32m<ipython-input-7-44d8c2df4d31>\u001b[0m in \u001b[0;36mget_action\u001b[1;34m(self, state)\u001b[0m\n\u001b[0;32m     16\u001b[0m             \u001b[0maction\u001b[0m \u001b[1;33m=\u001b[0m \u001b[1;36m1\u001b[0m\u001b[1;33m\u001b[0m\u001b[0m\n\u001b[0;32m     17\u001b[0m \u001b[1;33m\u001b[0m\u001b[0m\n\u001b[1;32m---> 18\u001b[1;33m         \u001b[1;32mreturn\u001b[0m \u001b[0maction\u001b[0m\u001b[1;33m\u001b[0m\u001b[0m\n\u001b[0m\u001b[0;32m     19\u001b[0m \u001b[1;33m\u001b[0m\u001b[0m\n",
      "\u001b[1;31mUnboundLocalError\u001b[0m: local variable 'action' referenced before assignment"
     ]
    }
   ],
   "source": [
    "agent = No_learning_Agent(env)\n",
    "rewards_list = []\n",
    "no_of_episodes = 100\n",
    "\n",
    "for x in range(1,no_of_episodes+1):\n",
    "    reward1 = 0\n",
    "    state = env.reset()\n",
    "    print(state)\n",
    "    for i in range(1,201):\n",
    "        action = agent.get_action(state)\n",
    "        state, reward, done, info = env.step(action)\n",
    "        print(\"step =\",i,\"state = \",state,\" reward = \",reward)\n",
    "        reward1 = reward1 + reward\n",
    "        env.render()\n",
    "        time.sleep(0.05)\n",
    "        if done:\n",
    "            rewards_list.append(reward1)\n",
    "            break\n",
    "print(\"Average reward over \",no_of_episodes,\" episodes = \",np.average(rewards_list))\n",
    "print(\"Max reward in an episode over \",no_of_episodes,\" episodes = \",np.max(rewards_list))\n",
    "print(\"Min reward in an episode over\",no_of_episodes,\" episodes = \",np.min(rewards_list))"
   ]
  }
 ],
 "metadata": {
  "kernelspec": {
   "display_name": "Python (py36)",
   "language": "python",
   "name": "py36"
  },
  "language_info": {
   "codemirror_mode": {
    "name": "ipython",
    "version": 3
   },
   "file_extension": ".py",
   "mimetype": "text/x-python",
   "name": "python",
   "nbconvert_exporter": "python",
   "pygments_lexer": "ipython3",
   "version": "3.6.6"
  }
 },
 "nbformat": 4,
 "nbformat_minor": 2
}
